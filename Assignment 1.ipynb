{
 "cells": [
  {
   "cell_type": "code",
   "execution_count": 216,
   "metadata": {
    "collapsed": false
   },
   "outputs": [],
   "source": [
    "%matplotlib inline\n",
    "\n",
    "import numpy as np\n",
    "import pandas as pd\n",
    "# import matplotlib\n",
    "# matplotlib.use('Agg')\n",
    "import matplotlib.pyplot as plt"
   ]
  },
  {
   "cell_type": "code",
   "execution_count": 300,
   "metadata": {
    "collapsed": true
   },
   "outputs": [],
   "source": [
    "# Generating Data for training: "
   ]
  },
  {
   "cell_type": "code",
   "execution_count": 360,
   "metadata": {
    "collapsed": false
   },
   "outputs": [
    {
     "data": {
      "image/png": "[encoded data removed]",
      "text/plain": [
       "<matplotlib.figure.Figure at 0xc425b70>"
      ]
     },
     "metadata": {},
     "output_type": "display_data"
    },
    {
     "name": "stdout",
     "output_type": "stream",
     "text": [
      "[0.3371906827225286, 1.1398081602427468]\n"
     ]
    }
   ],
   "source": [
    "x=10*np.transpose(np.array([np.random.randn(1000),np.random.randn(1000)]))\n",
    "w1=np.random.rand()\n",
    "w2=2*np.random.rand()\n",
    "y=w1*x[:,0]+w2*x[:,1]+2*np.random.randn(1000)\n",
    "\n",
    "plt.plot(x[:,0],y,'ro')\n",
    "plt.xlabel('$x_1$')\n",
    "plt.ylabel('$y$')\n",
    "plt.show()\n",
    "\n",
    "print [w1,w2]"
   ]
  },
  {
   "cell_type": "code",
   "execution_count": 361,
   "metadata": {
    "collapsed": true
   },
   "outputs": [],
   "source": [
    "class LinearRegressionClass():\n",
    "    \n",
    "    def __init__(self, learning_rate=0.01, stopping_criterion=0.01, max_iterations=1000,max_epochs=100,discounting=0.9,momentum_coef=0.1):\n",
    "        self.learning_rate = learning_rate\n",
    "        self.stopping_criterion = stopping_criterion\n",
    "        self.max_iterations = max_iterations\n",
    "        self.max_epochs = max_epochs\n",
    "        self.discounting = discounting\n",
    "        self.momentum_coef=momentum_coef\n",
    "        self.w = None\n",
    "    \n",
    "    def SGD_fit(self,X,Y):\n",
    "        dim=X.shape\n",
    "        n=dim[0]\n",
    "        m=dim[1]\n",
    "\n",
    "        self.w=np.random.randn(m)\n",
    "        loss=np.zeros(self.max_epochs)\n",
    "        for i in range(0,self.max_epochs):\n",
    "            for j in range(0,n):\n",
    "                self.w-=self.learning_rate*X[j,:]*(np.dot(self.w,X[j,:]) - Y[j])/n\n",
    "                loss[i]+=(np.dot(self.w,X[j,:]) - Y[j])**2\n",
    "        plt.plot(loss[:self.max_epochs])\n",
    "        plt.ylabel('Loss')\n",
    "        plt.xlabel('# epochs')\n",
    "        plt.show()\n",
    "        return self.w\n",
    "    \n",
    "    def SGDMomentum_fit(self,X,Y):\n",
    "        dim=X.shape\n",
    "        n=dim[0]\n",
    "        m=dim[1]\n",
    "        \n",
    "        dw=np.zeros(m)\n",
    "        self.w=np.random.randn(m)\n",
    "        loss=np.zeros(self.max_epochs)\n",
    "        \n",
    "        for i in range(0,self.max_epochs):\n",
    "            for k in range(0,n):\n",
    "                self.w-=self.learning_rate*X[k,:]*(np.dot(self.w,X[k,:]) - Y[k])/n\n",
    "                self.w+=self.momentum_coef*dw\n",
    "                dw=X[k,:]*(np.dot(self.w,X[k,:]) - Y[k])/n\n",
    "                loss[i]+=(np.dot(self.w,X[k,:]) - Y[k])**2\n",
    "        plt.plot(loss[:self.max_epochs])\n",
    "        plt.ylabel('Loss')\n",
    "        plt.xlabel('# epochs')\n",
    "        plt.show()\n",
    "        return self.w\n",
    "    \n",
    "    def SGDAdaGrad_fit(self,X,Y):\n",
    "        dim=X.shape\n",
    "        n=dim[0]\n",
    "        m=dim[1]\n",
    "    \n",
    "        cumm_grad=np.zeros(m)+0.000001\n",
    "        self.w=np.random.randn(m)\n",
    "        loss=np.zeros(self.max_epochs)\n",
    "        for i in range(0,self.max_epochs):\n",
    "            for j in range(0,n):\n",
    "                self.w-=X[j,:]/np.sqrt(cumm_grad)*self.learning_rate*(np.dot(self.w,X[j,:]) - Y[j])/n\n",
    "                cumm_grad+=np.square(X[j,:]*(np.dot(self.w,X[j,:]) - Y[j])/n)\n",
    "                loss[i]+=(np.dot(self.w,X[j,:]) - Y[j])**2\n",
    "        plt.plot(loss[:self.max_epochs])\n",
    "        plt.ylabel('Loss')\n",
    "        plt.xlabel('# epochs')\n",
    "        plt.show()\n",
    "        return self.w\n",
    "    \n",
    "    def SGDRMSProp_fit(self,X,Y):\n",
    "        dim=X.shape\n",
    "        n=dim[0]\n",
    "        m=dim[1]\n",
    "\n",
    "        self.w=np.random.randn(m)\n",
    "        v=0\n",
    "        loss=np.zeros(self.max_epochs)\n",
    "        for i in range(0,self.max_epochs):\n",
    "            for j in range(0,n):\n",
    "                v=self.discounting*v+(1-self.discounting)*np.sum((X[j,:]*(np.dot(self.w,X[j,:]) - Y[j])/n)**2)\n",
    "                self.w-=self.learning_rate*X[j,:]*(np.dot(self.w,X[j,:]) - Y[j])/(n*np.sqrt(v))\n",
    "                loss[i]+=(np.dot(self.w,X[j,:]) - Y[j])**2\n",
    "        plt.plot(loss[:self.max_epochs])\n",
    "        plt.ylabel('Loss')\n",
    "        plt.xlabel('# epochs')\n",
    "        plt.show()\n",
    "        return self.w\n",
    "    \n",
    "    def BGD_fit(self,X,Y):\n",
    "        dim=X.shape\n",
    "        n=dim[0]\n",
    "        m=dim[1]\n",
    "\n",
    "        w=np.random.randn(m)\n",
    "        grad=2*self.stopping_criterion*np.ones(m)\n",
    "        loss=np.zeros(self.max_iterations)\n",
    "\n",
    "        count=0\n",
    "        while(np.linalg.norm(grad)>self.stopping_criterion and count<self.max_iterations):\n",
    "            for k in range(0,n):\n",
    "                loss[count]+=(Y[k]-np.dot(X[k,:],w))**2/n\n",
    "            for j in range(0,m):\n",
    "                grad[j]=0\n",
    "                for k in range(0,n):\n",
    "                    grad[j]+=(Y[k]-np.dot(X[k,:],w))*X[k,j]/n\n",
    "\n",
    "                w[j]+=self.learning_rate*grad[j]\n",
    "            count+=1\n",
    "        self.w=w\n",
    "        plt.plot(loss[:count])\n",
    "        plt.ylabel('Loss')\n",
    "        plt.xlabel('# iteration')\n",
    "        plt.show()\n",
    "        return self.w\n",
    "    \n",
    "    def predict(self,X):\n",
    "        return np.dot(X,self.w)\n",
    "    \n",
    "    def score(self,X,Y):\n",
    "        return 1-np.var(Y-np.dot(X,self.w))/np.var(Y)"
   ]
  },
  {
   "cell_type": "code",
   "execution_count": 362,
   "metadata": {
    "collapsed": false
   },
   "outputs": [],
   "source": [
    "linear_model=LinearRegressionClass()"
   ]
  },
  {
   "cell_type": "code",
   "execution_count": null,
   "metadata": {
    "collapsed": true
   },
   "outputs": [],
   "source": [
    "# Batch gradient descent:"
   ]
  },
  {
   "cell_type": "code",
   "execution_count": 364,
   "metadata": {
    "collapsed": false
   },
   "outputs": [
    {
     "data": {
      "image/png": "[encoded data removed]",
      "text/plain": [
       "<matplotlib.figure.Figure at 0x11189908>"
      ]
     },
     "metadata": {},
     "output_type": "display_data"
    },
    {
     "data": {
      "text/plain": [
       "array([ 0.34068142,  1.1425577 ])"
      ]
     },
     "execution_count": 364,
     "metadata": {},
     "output_type": "execute_result"
    }
   ],
   "source": [
    "linear_model.BGD_fit(x,y)"
   ]
  },
  {
   "cell_type": "code",
   "execution_count": 365,
   "metadata": {
    "collapsed": false,
    "scrolled": true
   },
   "outputs": [
    {
     "data": {
      "text/plain": [
       "0.97526996261797949"
      ]
     },
     "execution_count": 365,
     "metadata": {},
     "output_type": "execute_result"
    }
   ],
   "source": [
    "linear_model.score(x,y)"
   ]
  },
  {
   "cell_type": "code",
   "execution_count": 366,
   "metadata": {
    "collapsed": true
   },
   "outputs": [],
   "source": [
    "# Plain Stochastic gradient descent:"
   ]
  },
  {
   "cell_type": "code",
   "execution_count": 367,
   "metadata": {
    "collapsed": false
   },
   "outputs": [
    {
     "data": {
      "image/png": "[encoded data removed]",
      "text/plain": [
       "<matplotlib.figure.Figure at 0x10f766d8>"
      ]
     },
     "metadata": {},
     "output_type": "display_data"
    },
    {
     "data": {
      "text/plain": [
       "array([ 0.34295687,  1.14083439])"
      ]
     },
     "execution_count": 367,
     "metadata": {},
     "output_type": "execute_result"
    }
   ],
   "source": [
    "linear_model.SGD_fit(x,y)"
   ]
  },
  {
   "cell_type": "code",
   "execution_count": 368,
   "metadata": {
    "collapsed": false
   },
   "outputs": [
    {
     "data": {
      "text/plain": [
       "0.97526378603308317"
      ]
     },
     "execution_count": 368,
     "metadata": {},
     "output_type": "execute_result"
    }
   ],
   "source": [
    "linear_model.score(x,y)"
   ]
  },
  {
   "cell_type": "code",
   "execution_count": 369,
   "metadata": {
    "collapsed": true
   },
   "outputs": [],
   "source": [
    "# Stochastic gradient descent with Momentum:"
   ]
  },
  {
   "cell_type": "code",
   "execution_count": 370,
   "metadata": {
    "collapsed": false
   },
   "outputs": [
    {
     "data": {
      "image/png": "[encoded data removed]",
      "text/plain": [
       "<matplotlib.figure.Figure at 0xe606668>"
      ]
     },
     "metadata": {},
     "output_type": "display_data"
    },
    {
     "data": {
      "text/plain": [
       "array([ 0.33845366,  1.14157953])"
      ]
     },
     "execution_count": 370,
     "metadata": {},
     "output_type": "execute_result"
    }
   ],
   "source": [
    "linear_model.learning_rate=0.1\n",
    "linear_model.SGDMomentum_fit(x,y)"
   ]
  },
  {
   "cell_type": "code",
   "execution_count": 371,
   "metadata": {
    "collapsed": false
   },
   "outputs": [
    {
     "data": {
      "text/plain": [
       "0.9752651671331658"
      ]
     },
     "execution_count": 371,
     "metadata": {},
     "output_type": "execute_result"
    }
   ],
   "source": [
    "linear_model.score(x,y)"
   ]
  },
  {
   "cell_type": "code",
   "execution_count": 372,
   "metadata": {
    "collapsed": true
   },
   "outputs": [],
   "source": [
    "# Stochastic gradient descent with Adaptive gradient:"
   ]
  },
  {
   "cell_type": "code",
   "execution_count": 376,
   "metadata": {
    "collapsed": false
   },
   "outputs": [
    {
     "data": {
      "image/png": "[encoded data removed]",
      "text/plain": [
       "<matplotlib.figure.Figure at 0xc245320>"
      ]
     },
     "metadata": {},
     "output_type": "display_data"
    },
    {
     "data": {
      "text/plain": [
       "array([ 0.44031803,  1.13839845])"
      ]
     },
     "execution_count": 376,
     "metadata": {},
     "output_type": "execute_result"
    }
   ],
   "source": [
    "linear_model.max_epochs=1000\n",
    "linear_model.learning_rate=0.1\n",
    "linear_model.SGDAdaGrad_fit(x,y)"
   ]
  },
  {
   "cell_type": "code",
   "execution_count": 377,
   "metadata": {
    "collapsed": false
   },
   "outputs": [
    {
     "data": {
      "text/plain": [
       "0.96833714045268471"
      ]
     },
     "execution_count": 377,
     "metadata": {},
     "output_type": "execute_result"
    }
   ],
   "source": [
    "linear_model.score(x,y)"
   ]
  },
  {
   "cell_type": "code",
   "execution_count": 297,
   "metadata": {
    "collapsed": true
   },
   "outputs": [],
   "source": [
    "# Stochastic gradient descent with RMS Propogation:"
   ]
  },
  {
   "cell_type": "code",
   "execution_count": 378,
   "metadata": {
    "collapsed": false
   },
   "outputs": [
    {
     "data": {
      "image/png": "[encoded data removed]",
      "text/plain": [
       "<matplotlib.figure.Figure at 0xc425b00>"
      ]
     },
     "metadata": {},
     "output_type": "display_data"
    },
    {
     "data": {
      "text/plain": [
       "array([ 0.33765763,  0.97679994])"
      ]
     },
     "execution_count": 378,
     "metadata": {},
     "output_type": "execute_result"
    }
   ],
   "source": [
    "linear_model.SGDRMSProp_fit(x,y)"
   ]
  },
  {
   "cell_type": "code",
   "execution_count": 379,
   "metadata": {
    "collapsed": false
   },
   "outputs": [
    {
     "data": {
      "text/plain": [
       "0.95697213286008243"
      ]
     },
     "execution_count": 379,
     "metadata": {},
     "output_type": "execute_result"
    }
   ],
   "source": [
    "linear_model.score(x,y)"
   ]
  },
  {
   "cell_type": "code",
   "execution_count": 380,
   "metadata": {
    "collapsed": true
   },
   "outputs": [],
   "source": [
    "# Import data from csv:"
   ]
  },
  {
   "cell_type": "code",
   "execution_count": 399,
   "metadata": {
    "collapsed": false
   },
   "outputs": [],
   "source": [
    "data=np.loadtxt('assignment1.csv',delimiter=',',skiprows=1)\n",
    "data=data[~np.isnan(data).any(axis=1)]\n",
    "np.random.shuffle(data)\n",
    "n=data.shape[0]\n",
    "\n",
    "n_train=int(0.7*n)\n",
    "y_train=data[:n_train,1]\n",
    "x_train=data[:n_train,2:]\n",
    "\n",
    "x_min=np.min(x_train,axis=1)\n",
    "x_max=np.max(x_train,axis=1)\n",
    "y_min=np.min(y_train)\n",
    "y_max=np.max(y_train)\n",
    "\n",
    "for i in range(x_train.shape[1]):\n",
    "    x_train[:,i]=(x_train[:,i]-x_min[i])/(x_max[i]-x_min[i])\n",
    "y_train=(y_train-y_max)/(y_max-y_min)\n",
    "\n",
    "y_test=data[n_train:,1]\n",
    "x_test=data[n_train:,2:]\n",
    "\n",
    "for i in range(x_train.shape[1]):\n",
    "    x_test[:,i]=(x_test[:,i]-x_min[i])/(x_max[i]-x_min[i])\n",
    "y_test=(y_test-y_max)/(y_max-y_min)"
   ]
  },
  {
   "cell_type": "code",
   "execution_count": 400,
   "metadata": {
    "collapsed": false
   },
   "outputs": [
    {
     "data": {
      "image/png": "[encoded data removed]",
      "text/plain": [
       "<matplotlib.figure.Figure at 0x1096a7b8>"
      ]
     },
     "metadata": {},
     "output_type": "display_data"
    },
    {
     "data": {
      "text/plain": [
       "array([ 0.28069872, -0.8998867 , -0.0586929 , -0.79943487, -0.73219281,\n",
       "        0.49311649, -0.86503279])"
      ]
     },
     "execution_count": 400,
     "metadata": {},
     "output_type": "execute_result"
    }
   ],
   "source": [
    "linear_model=LinearRegressionClass(learning_rate=0.1,max_epochs=1000)\n",
    "linear_model.BGD_fit(x_train,y_train)"
   ]
  },
  {
   "cell_type": "code",
   "execution_count": 401,
   "metadata": {
    "collapsed": false
   },
   "outputs": [
    {
     "data": {
      "text/plain": [
       "0.72922854989715924"
      ]
     },
     "execution_count": 401,
     "metadata": {},
     "output_type": "execute_result"
    }
   ],
   "source": [
    "linear_model.score(x_test,y_test)"
   ]
  },
  {
   "cell_type": "code",
   "execution_count": 402,
   "metadata": {
    "collapsed": true
   },
   "outputs": [],
   "source": [
    "from sklearn.linear_model import LinearRegression"
   ]
  },
  {
   "cell_type": "code",
   "execution_count": 403,
   "metadata": {
    "collapsed": false
   },
   "outputs": [
    {
     "data": {
      "text/plain": [
       "0.78856348491988471"
      ]
     },
     "execution_count": 403,
     "metadata": {},
     "output_type": "execute_result"
    }
   ],
   "source": [
    "model=LinearRegression()\n",
    "model.fit(x_train,y_train)\n",
    "model.coef_\n",
    "model.score(x_test,y_test)"
   ]
  },
  {
   "cell_type": "code",
   "execution_count": 435,
   "metadata": {
    "collapsed": false
   },
   "outputs": [
    {
     "data": {
      "image/png": "[encoded data removed]",
      "text/plain": [
       "<matplotlib.figure.Figure at 0x11278390>"
      ]
     },
     "metadata": {},
     "output_type": "display_data"
    },
    {
     "name": "stdout",
     "output_type": "stream",
     "text": [
      "0.789795484537\n"
     ]
    }
   ],
   "source": [
    "x=10*np.random.randn(1000)\n",
    "w=2*np.random.rand()\n",
    "y=w*x+10*np.random.randn(1000)\n",
    "\n",
    "\n",
    "plt.close()\n",
    "plt.plot(x,y,'ro')\n",
    "plt.xlabel('$x$')\n",
    "plt.ylabel('$y$')\n",
    "plt.show()\n",
    "\n",
    "print w"
   ]
  },
  {
   "cell_type": "code",
   "execution_count": 440,
   "metadata": {
    "collapsed": false
   },
   "outputs": [
    {
     "data": {
      "image/png": "[encoded data removed]",
      "text/plain": [
       "<matplotlib.figure.Figure at 0xc027438>"
      ]
     },
     "metadata": {},
     "output_type": "display_data"
    },
    {
     "name": "stdout",
     "output_type": "stream",
     "text": [
      "0.815426606956\n"
     ]
    }
   ],
   "source": [
    "learning_rate=0.001\n",
    "stopping_criterion=0.0000001\n",
    "max_iterations=1000\n",
    "\n",
    "n=x.size\n",
    "\n",
    "w=np.random.randn()\n",
    "grad=2*stopping_criterion\n",
    "loss=np.zeros(max_iterations)\n",
    "\n",
    "count=0\n",
    "while(abs(grad)>stopping_criterion and count<max_iterations):\n",
    "    grad=0\n",
    "    for k in range(0,n):\n",
    "        loss[count]+=(y[k]-x[k]*w)**2/n\n",
    "        grad+=(y[k]-x[k]*w)*x[k]/n\n",
    "\n",
    "    w+=learning_rate*grad\n",
    "    count+=1\n",
    "plt.plot(loss[:count])\n",
    "plt.ylabel('Loss')\n",
    "plt.xlabel('# iteration')\n",
    "plt.show()\n",
    "\n",
    "print w"
   ]
  },
  {
   "cell_type": "code",
   "execution_count": null,
   "metadata": {
    "collapsed": true
   },
   "outputs": [],
   "source": []
  }
 ],
 "metadata": {
  "kernelspec": {
   "display_name": "Python 2",
   "language": "python",
   "name": "python2"
  },
  "language_info": {
   "codemirror_mode": {
    "name": "ipython",
    "version": 2
   },
   "file_extension": ".py",
   "mimetype": "text/x-python",
   "name": "python",
   "nbconvert_exporter": "python",
   "pygments_lexer": "ipython2",
   "version": "2.7.13"
  }
 },
 "nbformat": 4,
 "nbformat_minor": 0
}
